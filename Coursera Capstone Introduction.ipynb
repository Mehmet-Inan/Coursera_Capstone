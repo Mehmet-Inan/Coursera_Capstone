{
 "cells": [
  {
   "cell_type": "markdown",
   "metadata": {},
   "source": [
    "Project Description:\n",
    " \n",
    "Boston is the capital and most populous city of the Commonwealth of Massachusetts in the United States. The Boston area has many colleges and universities make it an international center of education including law, medicine, engineering, and business, and the city is considered to be a world leader in innovation and entrepreneurship, with nearly 2,000 startups. Boston's economic base also includes finance, professional and business services, biotechnology, information technology, and government activities. \n",
    "Coffee shops are a popular place for informal business meetings or for students to catch up on schoolwork. Walk into any popular coffee shop and chances are you will see a realtor reviewing listings with a client or a group of students collaborating on a school project.\n",
    "\n",
    "An investment company wants to open a coffee shop in Boston area. In my final project I will be focusing on analyzing data to be able to open a coffee shop at Greater Boston Area, USA. Having a great location is obviously very important for attracting customers when you're opening a coffee shop. For that reason I will be focusing on the areas that is closer to the Universities. Also, the coffee shop will be serving premium coffee and will focus on the students to be able to attract them so it can definitely compete big coffee shop companies such as Dunkin Donuts or Starbucks. So when I look at the location, I will be also looking at those companies’ locations and can open very close to them. \n",
    "\n",
    "Data Sets and APIs:\n",
    "\n",
    "I am intended to collect data from Foursquare and apply data science techniques and tools. The collected data will involve Universities and Dunkin Donut and Starbucks coffee locations to determine which is the best location to recommend to customer. \n",
    "\n",
    "\n",
    "Python packages and Dependencies:\n",
    "• Pandas - Library for Data Analysis \n",
    "• NumPy – Library to handle data in a vectorized manner\n",
    "• JSON – Library to handle JSON files \n",
    "• Geopy – To retrieve Location Data \n",
    "• Requests – Library to handle http requests\n",
    "• Matplotlib – Python Plotting Module \n",
    "• Sklearn – Python machine learning Library \n",
    "• Folium – Map rendering Library\n",
    "\n"
   ]
  },
  {
   "cell_type": "code",
   "execution_count": null,
   "metadata": {
    "collapsed": true
   },
   "outputs": [],
   "source": []
  }
 ],
 "metadata": {
  "kernelspec": {
   "display_name": "Python 2",
   "language": "python",
   "name": "python2"
  },
  "language_info": {
   "codemirror_mode": {
    "name": "ipython",
    "version": 2
   },
   "file_extension": ".py",
   "mimetype": "text/x-python",
   "name": "python",
   "nbconvert_exporter": "python",
   "pygments_lexer": "ipython2",
   "version": "2.7.13"
  }
 },
 "nbformat": 4,
 "nbformat_minor": 2
}
